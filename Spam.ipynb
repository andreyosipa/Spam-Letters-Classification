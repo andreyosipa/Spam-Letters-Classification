{
 "metadata": {
  "name": "",
  "signature": "sha256:8b427daa96c4b93cbbc01927a9128eed2009bb4802f39fe457c1862c1155d0bd"
 },
 "nbformat": 3,
 "nbformat_minor": 0,
 "worksheets": [
  {
   "cells": [
    {
     "cell_type": "code",
     "collapsed": false,
     "input": [
      "%pylab inline"
     ],
     "language": "python",
     "metadata": {},
     "outputs": [
      {
       "output_type": "stream",
       "stream": "stdout",
       "text": [
        "Populating the interactive namespace from numpy and matplotlib\n",
        "\n"
       ]
      },
      {
       "output_type": "stream",
       "stream": "stderr",
       "text": [
        "WARNING: pylab import has clobbered these variables: ['random', 'clf', 'test']\n",
        "`%matplotlib` prevents importing * from pylab and numpy\n"
       ]
      }
     ],
     "prompt_number": 462
    },
    {
     "cell_type": "code",
     "collapsed": false,
     "input": [
      "import pandas\n",
      "import urllib2\n",
      "from sklearn import metrics"
     ],
     "language": "python",
     "metadata": {},
     "outputs": [],
     "prompt_number": 463
    },
    {
     "cell_type": "code",
     "collapsed": false,
     "input": [
      "SPAMBASE_NAMES_URL = 'https://archive.ics.uci.edu/ml/machine-learning-databases/spambase/spambase.names'\n",
      "SPAMBASE_DATA_URL = 'https://archive.ics.uci.edu/ml/machine-learning-databases/spambase/spambase.data'"
     ],
     "language": "python",
     "metadata": {},
     "outputs": [],
     "prompt_number": 464
    },
    {
     "cell_type": "code",
     "collapsed": false,
     "input": [
      "feature_names = [\n",
      "    line.strip().split(':')[0] \n",
      "    for line in urllib2.urlopen(SPAMBASE_NAMES_URL).readlines()[33:]\n",
      "]\n",
      "spam_data = pandas.read_csv(SPAMBASE_DATA_URL, header=None, names=(feature_names + ['spam']))\n",
      " \n",
      "X, y = spam_data.ix[:, :-1].values, spam_data.ix[:, -1].values\n",
      "num_ex = len(spam_data)\n",
      "num_sp = len(spam_data[spam_data['spam']==1])\n",
      "from __future__ import division\n",
      "print(\"\u0412\u0441\u0435\u0433\u043e \u043f\u0440\u0438\u043c\u0435\u0440\u043e\u0432 \u0432 \u0444\u0430\u0439\u043b\u0435 - \" + str(num_ex))\n",
      "print(\"\u0441\u0440\u0435\u0434\u0438 \u043d\u0438\u0445 \u0441\u043f\u0430\u043c\u0430 - \" + str(num_sp) + \" \u0438\u043b\u0438 \" + str(100*num_sp/num_ex) + \"%\")"
     ],
     "language": "python",
     "metadata": {},
     "outputs": [
      {
       "output_type": "stream",
       "stream": "stdout",
       "text": [
        "\u0412\u0441\u0435\u0433\u043e \u043f\u0440\u0438\u043c\u0435\u0440\u043e\u0432 \u0432 \u0444\u0430\u0439\u043b\u0435 - 4601\n",
        "\u0441\u0440\u0435\u0434\u0438 \u043d\u0438\u0445 \u0441\u043f\u0430\u043c\u0430 - 1813 \u0438\u043b\u0438 39.4044772875%\n"
       ]
      }
     ],
     "prompt_number": 465
    },
    {
     "cell_type": "code",
     "collapsed": false,
     "input": [
      "from sklearn.datasets import load_iris\n",
      "from sklearn.tree import DecisionTreeClassifier"
     ],
     "language": "python",
     "metadata": {},
     "outputs": [],
     "prompt_number": 466
    },
    {
     "cell_type": "code",
     "collapsed": false,
     "input": [
      "X1 = X[0:3000]\n",
      "X2 = X[3000:]\n",
      "y1 = y[0:3000]\n",
      "y2 = y[3000:]\n",
      "clf = DecisionTreeClassifier(criterion='gini' , max_depth=7).fit(X1, y1)"
     ],
     "language": "python",
     "metadata": {},
     "outputs": [],
     "prompt_number": 467
    },
    {
     "cell_type": "code",
     "collapsed": false,
     "input": [
      "y2_pred = clf.predict(X2)\n",
      "TP = 0\n",
      "TN = 0\n",
      "FP = 0\n",
      "FN = 0\n",
      "for index in range(1,len(y2)):\n",
      "    if (y2[index]==1 and y2_pred[index]==1):\n",
      "        TP += 1\n",
      "    else:\n",
      "        if (y2[index]==1 and y2_pred[index]==0):\n",
      "            FP += 1\n",
      "        else:\n",
      "            if (y2[index]==0 and y2_pred[index]==1):\n",
      "                FN += 1\n",
      "            else:\n",
      "                if (y2[index]==0 and y2_pred[index]==0):\n",
      "                    TN += 1\n",
      "print \"\u0420\u0435\u0437\u0443\u043b\u044c\u0442\u0430\u0442\u044b \u043c\u0435\u0442\u0440\u0438\u043a \u0434\u043b\u044f \u043d\u0435\u043f\u0435\u0440\u0435\u043c\u0435\u0448\u0430\u043d\u043d\u044b\u0445 \u043d\u0430\u0447\u0430\u043b\u044c\u043d\u044b\u0445 \u0434\u0430\u043d\u043d\u044b\u0445:\"\n",
      "print \"True negative \" , TN\n",
      "print \"False negative \" , FN\n",
      "print \"False positive \" , FP\n",
      "print \"True positive \" , TP\n",
      "Accuracy_TREE2 = metrics.accuracy_score(y2, y2_pred)\n",
      "Precision_TREE2 = metrics.precision_score(y2 , y2_pred)\n",
      "Recall_TREE2 = metrics.recall_score(y2 , y2_pred)\n",
      "F1_TREE2 = metrics.f1_score(y2 , y2_pred)\n",
      "print \"Accuracy = \" , Accuracy_TREE2\n",
      "print \"Precision = \" , Precision_TREE2\n",
      "print \"Recall = \" , Recall_TREE2\n",
      "print \"F1 = \" , F1_TREE2\n",
      "TREE_score = metrics.roc_auc_score(test_class, y2_pred)"
     ],
     "language": "python",
     "metadata": {},
     "outputs": [
      {
       "output_type": "stream",
       "stream": "stdout",
       "text": [
        "\u0420\u0435\u0437\u0443\u043b\u044c\u0442\u0430\u0442\u044b \u043c\u0435\u0442\u0440\u0438\u043a \u0434\u043b\u044f \u043d\u0435\u043f\u0435\u0440\u0435\u043c\u0435\u0448\u0430\u043d\u043d\u044b\u0445 \u043d\u0430\u0447\u0430\u043b\u044c\u043d\u044b\u0445 \u0434\u0430\u043d\u043d\u044b\u0445:\n",
        "True negative  1235\n",
        "False negative  365\n",
        "False positive  0\n",
        "True positive  0\n",
        "Accuracy =  0.772017489069\n",
        "Precision =  0\n",
        "Recall =  0\n",
        "F1 =  0\n"
       ]
      }
     ],
     "prompt_number": 468
    },
    {
     "cell_type": "heading",
     "level": 3,
     "metadata": {},
     "source": [
      "\u041d\u0435\u0434\u043e\u0441\u0442\u0430\u0442\u043e\u043a \u0442\u0430\u043a\u043e\u0433\u043e \u0440\u0430\u0437\u0434\u0435\u043b\u0435\u043d\u0438\u044f \u0432 \u0442\u043e\u043c, \u0447\u0442\u043e \u0432 \u0442\u0435\u0441\u0442\u043e\u0432\u043e\u0439 \u0432\u044b\u0431\u043e\u0440\u043a\u0435 \u0441\u043e\u0432\u0441\u0435\u043c \u043d\u0435\u0442 \u0441\u043f\u0430\u043c\u0430. \u041e\u0446\u0435\u043d\u043a\u0430 \u043d\u0435 \u043f\u043e\u043a\u0430\u0437\u044b\u0432\u0430\u0435\u0442 \u043d\u0430\u0441\u043a\u043e\u043b\u044c\u043a\u043e \u0442\u0430\u043a\u043e\u0435 \u0434\u0435\u0440\u0435\u0432\u043e \u043e\u0442\u0434\u0435\u043b\u044f\u0435\u0442 \u0441\u043f\u0430\u043c, \u0435\u0441\u0442\u044c \u0442\u043e\u043b\u044c\u043a\u043e \u0438\u043d\u0444\u043e\u0440\u043c\u0430\u0446\u0438\u044f \u043e \u0442\u043e\u043c, \u043a\u0430\u043a \u0447\u0430\u0441\u0442\u043e \u043e\u043d\u043e \u0434\u0435\u043b\u0430\u0435\u0442 \u043e\u0448\u0438\u0431\u043a\u0443 1 \u0440\u043e\u0434\u0430."
     ]
    },
    {
     "cell_type": "heading",
     "level": 2,
     "metadata": {},
     "source": [
      "TREE classifier"
     ]
    },
    {
     "cell_type": "code",
     "collapsed": false,
     "input": [
      "import random\n",
      "X = spam_data.ix[:, :].values\n",
      "random.shuffle(X)\n",
      "df = pandas.DataFrame(X, columns=(feature_names + ['spam']))\n",
      "X, y = df.ix[:, :-1].values, df.ix[:, -1].values\n",
      "train = X[0:3000]\n",
      "test = X[3000:]\n",
      "train_class = y[0:3000]\n",
      "test_class = y[3000:]\n",
      "clf = DecisionTreeClassifier(criterion='gini' , max_depth=7).fit(train, train_class)\n",
      "test_pred_TREE = clf.predict(test)\n",
      "TP = 0\n",
      "TN = 0\n",
      "FP = 0\n",
      "FN = 0\n",
      "for index in range(1,len(test)):\n",
      "    if (test_class[index]==1 and test_pred_TREE[index]==1):\n",
      "        TP += 1\n",
      "    else:\n",
      "        if (test_class[index]==1 and test_pred_TREE[index]==0):\n",
      "            FP += 1\n",
      "        else:\n",
      "            if (test_class[index]==0 and test_pred_TREE[index]==1):\n",
      "                FN += 1\n",
      "            else:\n",
      "                if (test_class[index]==0 and test_pred_TREE[index]==0):\n",
      "                    TN += 1\n",
      "print \"\u0420\u0435\u0437\u0443\u043b\u044c\u0442\u0430\u0442\u044b \u043c\u0435\u0442\u0440\u0438\u043a \u0434\u043b\u044f \u0441\u043b\u0443\u0447\u0430\u0439\u043d\u043e \u043f\u0435\u0440\u0435\u043c\u0435\u0448\u0430\u043d\u043d\u044b\u0445 \u043d\u0430\u0447\u0430\u043b\u044c\u043d\u044b\u0445 \u0434\u0430\u043d\u043d\u044b\u0445:\"\n",
      "print \"True negative \" , TN\n",
      "print \"False negative \" , FN\n",
      "print \"False positive \" , FP\n",
      "print \"True positive \" , TP\n",
      "Accuracy_TREE = metrics.accuracy_score(test_class , test_pred_TREE)\n",
      "Precision_TREE = metrics.precision_score(test_class , test_pred_TREE)\n",
      "Recall_TREE = metrics.recall_score(test_class , test_pred_TREE)\n",
      "F1_TREE = metrics.f1_score(test_class , test_pred_TREE)\n",
      "print \"Accuracy = \" , Accuracy_TREE\n",
      "print \"Precision = \" , Precision_TREE\n",
      "print \"Recall = \" , Recall_TREE\n",
      "print \"F1 = \" , F1_TREE\n",
      "TREE_score = metrics.roc_auc_score(test_class, test_pred_TREE)"
     ],
     "language": "python",
     "metadata": {},
     "outputs": [
      {
       "output_type": "stream",
       "stream": "stdout",
       "text": [
        "\u0420\u0435\u0437\u0443\u043b\u044c\u0442\u0430\u0442\u044b \u043c\u0435\u0442\u0440\u0438\u043a \u0434\u043b\u044f \u0441\u043b\u0443\u0447\u0430\u0439\u043d\u043e \u043f\u0435\u0440\u0435\u043c\u0435\u0448\u0430\u043d\u043d\u044b\u0445 \u043d\u0430\u0447\u0430\u043b\u044c\u043d\u044b\u0445 \u0434\u0430\u043d\u043d\u044b\u0445:\n",
        "True negative  638\n",
        "False negative  202\n",
        "False positive  10\n",
        "True positive  750\n",
        "Accuracy =  0.867582760775\n",
        "Precision =  0.788037775446\n",
        "Recall =  0.986859395532\n",
        "F1 =  0.876312718786\n"
       ]
      }
     ],
     "prompt_number": 469
    },
    {
     "cell_type": "heading",
     "level": 3,
     "metadata": {},
     "source": [
      "\u041d\u0430\u0438\u0431\u043e\u043b\u0435\u0435 \u0432\u0430\u0436\u043d\u044b\u0435 \u043f\u0440\u0438\u0437\u043d\u0430\u043a\u0438"
     ]
    },
    {
     "cell_type": "code",
     "collapsed": false,
     "input": [
      "most_important_features = argsort(clf.feature_importances_)[::-1]\n",
      "for idx in most_important_features[0:5]:\n",
      "    print ('%d %s, importance = %.4f%%' % (idx, feature_names[idx].split(\"_\")[len(feature_names[idx].split(\"_\"))-1], 100*clf.feature_importances_[idx]))"
     ],
     "language": "python",
     "metadata": {},
     "outputs": [
      {
       "output_type": "stream",
       "stream": "stdout",
       "text": [
        "24 hp, importance = 39.6957%\n",
        "26 george, importance = 17.1786%\n",
        "41 meeting, importance = 9.4498%\n",
        "56 total, importance = 4.9869%\n",
        "10 receive, importance = 4.9186%\n"
       ]
      }
     ],
     "prompt_number": 470
    },
    {
     "cell_type": "heading",
     "level": 2,
     "metadata": {},
     "source": [
      "KNN, scaled KNN"
     ]
    },
    {
     "cell_type": "code",
     "collapsed": false,
     "input": [
      "from sklearn.neighbors import KNeighborsClassifier\n",
      "knn = KNeighborsClassifier(n_neighbors=10).fit(train,train_class)\n",
      "test_pred_KNN = knn.predict(test)\n",
      "TP = 0\n",
      "TN = 0\n",
      "FP = 0\n",
      "FN = 0\n",
      "for index in range(1,len(test)):\n",
      "    if (test_class[index]==1 and test_pred_KNN[index]==1):\n",
      "        TP += 1\n",
      "    else:\n",
      "        if (test_class[index]==1 and test_pred_KNN[index]==0):\n",
      "            FP += 1\n",
      "        else:\n",
      "            if (test_class[index]==0 and test_pred_KNN[index]==1):\n",
      "                FN += 1\n",
      "            else:\n",
      "                if (test_class[index]==0 and test_pred_KNN[index]==0):\n",
      "                    TN += 1\n",
      "print \"\u0420\u0435\u0437\u0443\u043b\u044c\u0442\u0430\u0442\u044b \u043c\u0435\u0442\u0440\u0438\u043a \u0434\u043b\u044f KNN:\"\n",
      "print \"True negative \" , TN\n",
      "print \"False negative \" , FN\n",
      "print \"False positive \" , FP\n",
      "print \"True positive \" , TP\n",
      "Accuracy_KNN = metrics.accuracy_score(test_class , test_pred_KNN)\n",
      "Precision_KNN = metrics.precision_score(test_class , test_pred_KNN)\n",
      "Recall_KNN = metrics.recall_score(test_class , test_pred_KNN)\n",
      "F1_KNN = metrics.f1_score(test_class , test_pred_KNN)\n",
      "print \"Accuracy = \" , Accuracy_KNN\n",
      "print \"Precision = \" , Precision_KNN\n",
      "print \"Recall = \" , Recall_KNN\n",
      "print \"F1 = \" , F1_KNN\n",
      "KNN_score = metrics.roc_auc_score(test_class, test_pred_KNN)"
     ],
     "language": "python",
     "metadata": {},
     "outputs": [
      {
       "output_type": "stream",
       "stream": "stdout",
       "text": [
        "\u0420\u0435\u0437\u0443\u043b\u044c\u0442\u0430\u0442\u044b \u043c\u0435\u0442\u0440\u0438\u043a \u0434\u043b\u044f KNN:\n",
        "True negative  242\n",
        "False negative  598\n",
        "False positive  15\n",
        "True positive  745\n",
        "Accuracy =  0.61711430356\n",
        "Precision =  0.55505952381\n",
        "Recall =  0.980289093298\n",
        "F1 =  0.708788598575\n"
       ]
      }
     ],
     "prompt_number": 471
    },
    {
     "cell_type": "heading",
     "level": 2,
     "metadata": {},
     "source": [
      "KNN scaled"
     ]
    },
    {
     "cell_type": "code",
     "collapsed": false,
     "input": [
      "from sklearn import preprocessing\n",
      "rescaleX= preprocessing.scale(X)\n",
      "train_rescaled = rescaleX[0:3000]\n",
      "test_rescaled = rescaleX[3000:]\n",
      "knn_scaled = KNeighborsClassifier(n_neighbors=10).fit(train_rescaled,train_class)\n",
      "test_pred_KNN_scaled = knn_scaled.predict(test_rescaled)\n",
      "TP = 0\n",
      "TN = 0\n",
      "FP = 0\n",
      "FN = 0\n",
      "for index in range(1,len(test)):\n",
      "    if (test_class[index]==1 and test_pred_KNN_scaled[index]==1):\n",
      "        TP += 1\n",
      "    else:\n",
      "        if (test_class[index]==1 and test_pred_KNN_scaled[index]==0):\n",
      "            FP += 1\n",
      "        else:\n",
      "            if (test_class[index]==0 and test_pred_KNN_scaled[index]==1):\n",
      "                FN += 1\n",
      "            else:\n",
      "                if (test_class[index]==0 and test_pred_KNN_scaled[index]==0):\n",
      "                    TN += 1\n",
      "print \"\u0420\u0435\u0437\u0443\u043b\u044c\u0442\u0430\u0442\u044b \u043c\u0435\u0442\u0440\u0438\u043a \u0434\u043b\u044f KNN \u0441 \u043d\u043e\u0440\u043c\u0438\u0440\u043e\u0432\u0430\u043d\u043d\u044b\u043c\u0438 \u043f\u0440\u0438\u0437\u043d\u0430\u043a\u0430\u043c\u0438:\"\n",
      "print \"True negative \" , TN\n",
      "print \"False negative \" , FN\n",
      "print \"False positive \" , FP\n",
      "print \"True positive \" , TP\n",
      "Accuracy_KNN_scaled = metrics.accuracy_score(test_class , test_pred_KNN_scaled)\n",
      "Precision_KNN_scaled = metrics.precision_score(test_class , test_pred_KNN_scaled)\n",
      "Recall_KNN_scaled = metrics.recall_score(test_class , test_pred_KNN_scaled)\n",
      "F1_KNN_scaled = metrics.f1_score(test_class , test_pred_KNN_scaled)\n",
      "print \"Accuracy = \" , Accuracy_KNN_scaled\n",
      "print \"Precision = \" , Precision_KNN_scaled\n",
      "print \"Recall = \" , Recall_KNN_scaled\n",
      "print \"F1 = \" , F1_KNN_scaled\n",
      "KNN_scaled_score = metrics.roc_auc_score(test_class, test_pred_KNN_scaled)"
     ],
     "language": "python",
     "metadata": {},
     "outputs": [
      {
       "output_type": "stream",
       "stream": "stdout",
       "text": [
        "\u0420\u0435\u0437\u0443\u043b\u044c\u0442\u0430\u0442\u044b \u043c\u0435\u0442\u0440\u0438\u043a \u0434\u043b\u044f KNN \u0441 \u043d\u043e\u0440\u043c\u0438\u0440\u043e\u0432\u0430\u043d\u043d\u044b\u043c\u0438 \u043f\u0440\u0438\u0437\u043d\u0430\u043a\u0430\u043c\u0438:\n",
        "True negative  476\n",
        "False negative  364\n",
        "False positive  3\n",
        "True positive  757\n",
        "Accuracy =  0.770768269831\n",
        "Precision =  0.675579322638\n",
        "Recall =  0.99605781866\n",
        "F1 =  0.805098247477\n"
       ]
      }
     ],
     "prompt_number": 472
    },
    {
     "cell_type": "heading",
     "level": 2,
     "metadata": {},
     "source": [
      "Dummy Classifier"
     ]
    },
    {
     "cell_type": "code",
     "collapsed": false,
     "input": [
      "from sklearn import dummy \n",
      "dum = dummy.DummyClassifier().fit(train,train_class)\n",
      "test_pred_DUMMY = dum.predict(test)\n",
      "TP = 0\n",
      "TN = 0\n",
      "FP = 0\n",
      "FN = 0\n",
      "for index in range(1,len(test)):\n",
      "    if (test_class[index]==1 and test_pred_DUMMY[index]==1):\n",
      "        TP += 1\n",
      "    else:\n",
      "        if (test_class[index]==1 and test_pred_DUMMY[index]==0):\n",
      "            FP += 1\n",
      "        else:\n",
      "            if (test_class[index]==0 and test_pred_DUMMY[index]==1):\n",
      "                FN += 1\n",
      "            else:\n",
      "                if (test_class[index]==0 and test_pred_DUMMY[index]==0):\n",
      "                    TN += 1\n",
      "print \"\u0420\u0435\u0437\u0443\u043b\u044c\u0442\u0430\u0442\u044b \u043c\u0435\u0442\u0440\u0438\u043a \u0434\u043b\u044f \u043a\u043e\u043d\u0441\u0442\u0430\u043d\u0442\u043d\u043e\u0439 \u043c\u043e\u0434\u0435\u043b\u0438:\"\n",
      "print \"True negative \" , TN\n",
      "print \"False negative \" , FN\n",
      "print \"False positive \" , FP\n",
      "print \"True positive \" , TP\n",
      "Accuracy_DUMMY = metrics.accuracy_score(test_class , test_pred_DUMMY)\n",
      "Precision_DUMMY = metrics.precision_score(test_class , test_pred_DUMMY)\n",
      "Recall_DUMMY = metrics.recall_score(test_class , test_pred_DUMMY)\n",
      "F1_DUMMY = metrics.f1_score(test_class , test_pred_DUMMY)\n",
      "print \"Accuracy = \" , Accuracy_DUMMY\n",
      "print \"Precision = \" , Precision_DUMMY\n",
      "print \"Recall = \" , Recall_DUMMY\n",
      "print \"F1 = \" , F1_DUMMY\n",
      "DUMMY_score = metrics.roc_auc_score(test_class, test_pred_DUMMY)"
     ],
     "language": "python",
     "metadata": {},
     "outputs": [
      {
       "output_type": "stream",
       "stream": "stdout",
       "text": [
        "\u0420\u0435\u0437\u0443\u043b\u044c\u0442\u0430\u0442\u044b \u043c\u0435\u0442\u0440\u0438\u043a \u0434\u043b\u044f \u043a\u043e\u043d\u0441\u0442\u0430\u043d\u0442\u043d\u043e\u0439 \u043c\u043e\u0434\u0435\u043b\u0438:\n",
        "True negative  82\n",
        "False negative  758\n",
        "False positive  73\n",
        "True positive  687\n",
        "Accuracy =  0.480949406621\n",
        "Precision =  0.475795297372\n",
        "Recall =  0.904073587385\n",
        "F1 =  0.623470774807\n"
       ]
      }
     ],
     "prompt_number": 473
    },
    {
     "cell_type": "code",
     "collapsed": false,
     "input": [
      "model_names = [\"Tree\" , \"KNN\" , \"KNN scaled\" , \"Dummy\"]\n",
      "Acc = pandas.DataFrame( [Accuracy_TREE , Accuracy_KNN , Accuracy_KNN_scaled , Accuracy_DUMMY] , index = model_names )\n",
      "Pre = pandas.DataFrame( [Precision_TREE , Precision_KNN , Precision_KNN_scaled , Precision_DUMMY] , index = model_names )\n",
      "Rec = pandas.DataFrame( [Recall_TREE , Recall_KNN , Recall_KNN_scaled , Recall_DUMMY] , index = model_names )\n",
      "F1 = pandas.DataFrame( [F1_TREE , F1_KNN , F1_KNN_scaled , F1_DUMMY] , index = model_names )\n",
      "Acc.plot(kind = \"bar\" , title=\"Accuracy\" , legend=False , figsize=(3,3) , ylim = (0 , 1))\n",
      "Pre.plot(kind = \"bar\" , title=\"Precision\" , legend=False , figsize=(3,3) , ylim = (0 , 1))\n",
      "Rec.plot(kind = \"bar\" , title=\"Recall\" , legend=False , figsize=(3,3) , ylim = (0 , 1))\n",
      "F1.plot(kind = \"bar\" , title=\"F1\" , legend=False , figsize=(3,3) , ylim = (0 , 1))"
     ],
     "language": "python",
     "metadata": {},
     "outputs": [
      {
       "metadata": {},
       "output_type": "pyout",
       "prompt_number": 474,
       "text": [
        "<matplotlib.axes._subplots.AxesSubplot at 0x116ec8950>"
       ]
      },
      {
       "metadata": {},
       "output_type": "display_data",
       "png": "[encoded data removed]",
       "text": [
        "<matplotlib.figure.Figure at 0x1196d9210>"
       ]
      },
      {
       "metadata": {},
       "output_type": "display_data",
       "png": "[encoded data removed]",
       "text": [
        "<matplotlib.figure.Figure at 0x1196d9ad0>"
       ]
      },
      {
       "metadata": {},
       "output_type": "display_data",
       "png": "[encoded data removed]",
       "text": [
        "<matplotlib.figure.Figure at 0x1173d8c90>"
       ]
      },
      {
       "metadata": {},
       "output_type": "display_data",
       "png": "[encoded data removed]",
       "text": [
        "<matplotlib.figure.Figure at 0x110b37d10>"
       ]
      }
     ],
     "prompt_number": 474
    },
    {
     "cell_type": "heading",
     "level": 2,
     "metadata": {},
     "source": [
      "AUC ROC \u043e\u0446\u0435\u043d\u043a\u0438"
     ]
    },
    {
     "cell_type": "heading",
     "level": 3,
     "metadata": {},
     "source": [
      "\u0415\u0441\u043b\u0438 \u0432\u0437\u044f\u0442\u044c \u043a\u043b\u0430\u0441\u0441\u0438\u0444\u0438\u043a\u0430\u0442\u043e\u0440, \u043a\u043e\u0442\u043e\u0440\u044b\u0439 \u0432\u0441\u0435\u043c \u043f\u0438\u0441\u044c\u043c\u0430\u043c \u0431\u0443\u0434\u0435\u0442 \u0434\u0430\u0432\u0430\u0442\u044c \u043a\u043b\u0430\u0441\u0441 0(\u043d\u0435 \u0441\u043f\u0430\u043c), \u0442\u043e \u0435\u0433\u043e \u043e\u0446\u0435\u043d\u043a\u0430 AUC-ROC \u0431\u0443\u0434\u0435\u0442 \u0440\u0430\u0432\u043d\u0430 0, \u0442\u0430\u043a \u043a\u0430\u043a TruePositiveRate \u0431\u0443\u0434\u0435\u0442 \u0443 \u043d\u0435\u0433\u043e \u0432\u0441\u0435\u0433\u0434\u0430 0."
     ]
    },
    {
     "cell_type": "code",
     "collapsed": false,
     "input": [
      "ROC = pandas.DataFrame( [TREE_score , KNN_score , KNN_scaled_score , DUMMY_score] , index = model_names)\n",
      "ROC.plot(kind = \"bar\" , title=\"ROC score\" , legend=False , figsize=(3,3) , ylim = (0 , 1))"
     ],
     "language": "python",
     "metadata": {},
     "outputs": [
      {
       "metadata": {},
       "output_type": "pyout",
       "prompt_number": 475,
       "text": [
        "<matplotlib.axes._subplots.AxesSubplot at 0x11991d910>"
       ]
      },
      {
       "metadata": {},
       "output_type": "display_data",
       "png": "[encoded data removed]",
       "text": [
        "<matplotlib.figure.Figure at 0x11a697790>"
       ]
      }
     ],
     "prompt_number": 475
    },
    {
     "cell_type": "code",
     "collapsed": false,
     "input": [
      "import pylab as pl\n",
      "fprD, tprD, thresholds = metrics.roc_curve(test_class, test_pred_DUMMY)\n",
      "fprT, tprT, thresholds = metrics.roc_curve(test_class, test_pred_TREE)\n",
      "fprK, tprK, thresholds = metrics.roc_curve(test_class, test_pred_KNN)\n",
      "fprKs, tprKs, thresholds = metrics.roc_curve(test_class, test_pred_KNN_scaled)\n",
      "roc_aucD = metrics.auc(fprD, tprD)\n",
      "roc_aucT = metrics.auc(fprT, tprT)\n",
      "roc_aucK = metrics.auc(fprK, tprK)\n",
      "roc_aucKs = metrics.auc(fprKs, tprKs)\n",
      "pl.clf()\n",
      "pl.plot(fprD, tprD, label='ROC Dummy curve (area = %0.2f)' % roc_aucD)\n",
      "pl.plot(fprT, tprT, label='ROC Tree curve (area = %0.2f)' % roc_aucT)\n",
      "pl.plot(fprK, tprK, label='ROC KNN curve (area = %0.2f)' % roc_aucK)\n",
      "pl.plot(fprKs, tprKs, label='ROC KNN scaled curve (area = %0.2f)' % roc_aucKs)\n",
      "pl.plot([0, 1], [0, 1], 'k--')\n",
      "pl.xlim([0.0, 1.0])\n",
      "pl.ylim([0.0, 1.0])\n",
      "pl.xlabel('False Positive Rate')\n",
      "pl.ylabel('True Positive Rate')\n",
      "pl.title('Receiver operating characteristic')\n",
      "pl.legend(loc=\"lower right\")\n",
      "pl.show()"
     ],
     "language": "python",
     "metadata": {},
     "outputs": [
      {
       "metadata": {},
       "output_type": "display_data",
       "png": "[encoded data removed]",
       "text": [
        "<matplotlib.figure.Figure at 0x118a0fd90>"
       ]
      }
     ],
     "prompt_number": 476
    },
    {
     "cell_type": "code",
     "collapsed": false,
     "input": [
      "fprD, tprD, thresholds = metrics.precision_recall_curve(test_class, test_pred_DUMMY)\n",
      "fprT, tprT, thresholds = metrics.precision_recall_curve(test_class, test_pred_TREE)\n",
      "fprK, tprK, thresholds = metrics.precision_recall_curve(test_class, test_pred_KNN)\n",
      "fprKs, tprKs, thresholds = metrics.precision_recall_curve(test_class, test_pred_KNN_scaled)\n",
      "pl.clf()\n",
      "pl.plot(fprD, tprD, label=\"Dummy\")\n",
      "pl.plot(fprT, tprT, label=\"Tree\")\n",
      "pl.plot(fprK, tprK, label=\"KNN\")\n",
      "pl.plot(fprKs, tprKs, label=\"KNN scaled\")\n",
      "pl.xlabel('Recall')\n",
      "pl.ylabel('Precision')\n",
      "pl.title('ROC-AUC')\n",
      "pl.xlim(xmin = 0)\n",
      "pl.ylim((0.0 , 1))\n",
      "pl.legend(loc=\"lower right\")\n",
      "pl.show()"
     ],
     "language": "python",
     "metadata": {},
     "outputs": [
      {
       "metadata": {},
       "output_type": "display_data",
       "png": "[encoded data removed]",
       "text": [
        "<matplotlib.figure.Figure at 0x118a85410>"
       ]
      }
     ],
     "prompt_number": 477
    },
    {
     "cell_type": "code",
     "collapsed": false,
     "input": [
      "def scoref(clf, X, y):\n",
      "    return metrics.roc_auc_score(y, clf.predict(X))\n",
      "from sklearn import cross_validation\n",
      "from sklearn import grid_search\n",
      "kf = cross_validation.KFold(len(train_class), n_folds=8, shuffle=True, random_state=1306)\n",
      "params = {'max_features':(None , 'auto' , 'sqrt' , 'log2') , 'max_depth':(5,6,7,8,9,10) , 'min_samples_split':(2,4,6,8,10,12) , 'min_samples_leaf':(1,3,5,7,10,15,20)}\n",
      "grid_s = grid_search.GridSearchCV(clf , params , scoring = scoref , cv=kf)\n",
      "grid_s.fit(train , train_class)\n",
      "test_pred_TREE_gs = grid_s.predict(test)\n",
      "fprTgs, tprTgs, thresholds = metrics.precision_recall_curve(test_class, test_pred_TREE_gs)\n",
      "print \"\u041b\u0443\u0447\u0448\u0438\u0435 \u0440\u0435\u0437\u0443\u043b\u044c\u0442\u0430\u0442\u044b \u0432\u0441\u0435\u0445 \u043c\u0435\u0442\u0440\u0438\u043a \u0434\u043b\u044f \u0434\u0435\u0440\u0435\u0432\u0430 \u043f\u043e\u0441\u043b\u0435 \u043f\u0435\u0440\u0435\u0431\u043e\u0440\u0430 \u043f\u0430\u0440\u0430\u043c\u0435\u0442\u0440\u043e\u0432:\"\n",
      "print \"Accuracy: \",metrics.accuracy_score(test_class , test_pred_TREE_gs)\n",
      "print \"Precision: \",metrics.precision_score(test_class , test_pred_TREE_gs)\n",
      "print \"Recall: \",metrics.recall_score(test_class , test_pred_TREE_gs)\n",
      "print \"F1: \",metrics.f1_score(test_class , test_pred_TREE_gs)\n",
      "print \"AUC score:\",metrics.roc_auc_score(test_class , test_pred_TREE_gs)\n",
      "print grid_s.best_params_"
     ],
     "language": "python",
     "metadata": {},
     "outputs": [
      {
       "output_type": "stream",
       "stream": "stdout",
       "text": [
        "\u041b\u0443\u0447\u0448\u0438\u0435 \u0440\u0435\u0437\u0443\u043b\u044c\u0442\u0430\u0442\u044b \u0432\u0441\u0435\u0445 \u043c\u0435\u0442\u0440\u0438\u043a \u0434\u043b\u044f \u0434\u0435\u0440\u0435\u0432\u0430 \u043f\u043e\u0441\u043b\u0435 \u043f\u0435\u0440\u0435\u0431\u043e\u0440\u0430 \u043f\u0430\u0440\u0430\u043c\u0435\u0442\u0440\u043e\u0432:\n",
        "Accuracy:  0.87632729544\n",
        "Precision:  0.797254487856\n",
        "Recall:  0.992115637319\n",
        "F1:  0.884074941452\n",
        "AUC score: 0.881772104374\n",
        "{'max_features': None, 'min_samples_split': 8, 'max_depth': 10, 'min_samples_leaf': 1}\n"
       ]
      }
     ],
     "prompt_number": 495
    },
    {
     "cell_type": "code",
     "collapsed": false,
     "input": [
      "def scoref(clf, X, y):\n",
      "    return sklearn.metrics.roc_auc_score(y, clf.predict(X))\n",
      "kf = cross_validation.KFold(len(train), n_folds=8, shuffle=True, random_state=1306)\n",
      "params_knn = {'algorithm' : ('auto', 'ball_tree', 'kd_tree') , \n",
      "              'n_neighbors':(1,3,5,7,10) , \n",
      "              'metric' : ('minkowski' , 'chebyshev') , \n",
      "              'p':(1,2,3)}\n",
      "grid_s_knn = grid_search.GridSearchCV(knn_scaled , params_knn , scoring = 'roc_auc' , cv=kf)\n",
      "grid_s_knn.fit(train_rescaled , train_class)\n",
      "test_pred_KNNs_gs = grid_s_knn.predict(test_rescaled)\n",
      "fprKgs, tprKgs, thresholds = metrics.precision_recall_curve(test_class, test_pred_KNNs_gs)\n",
      "print \"\u041b\u0443\u0447\u0448\u0438\u0435 \u0440\u0435\u0437\u0443\u043b\u044c\u0442\u0430\u0442\u044b \u0432\u0441\u0435\u0445 \u043c\u0435\u0442\u0440\u0438\u043a \u0434\u043b\u044f \u0434\u0435\u0440\u0435\u0432\u0430 \u043f\u043e\u0441\u043b\u0435 \u043f\u0435\u0440\u0435\u0431\u043e\u0440\u0430 \u043f\u0430\u0440\u0430\u043c\u0435\u0442\u0440\u043e\u0432:\"\n",
      "print \"Accuracy: \",metrics.accuracy_score(test_class , test_pred_KNNs_gs)\n",
      "print \"Precision: \",metrics.precision_score(test_class , test_pred_KNNs_gs)\n",
      "print \"Recall: \",metrics.recall_score(test_class , test_pred_KNNs_gs)\n",
      "print \"F1: \",metrics.f1_score(test_class , test_pred_KNNs_gs)\n",
      "print \"AUC score:\",metrics.roc_auc_score(test_class , test_pred_KNNs_gs)\n",
      "print grid_s_knn.best_params_"
     ],
     "language": "python",
     "metadata": {},
     "outputs": [
      {
       "output_type": "stream",
       "stream": "stdout",
       "text": [
        "\u041b\u0443\u0447\u0448\u0438\u0435 \u0440\u0435\u0437\u0443\u043b\u044c\u0442\u0430\u0442\u044b \u0432\u0441\u0435\u0445 \u043c\u0435\u0442\u0440\u0438\u043a \u0434\u043b\u044f \u0434\u0435\u0440\u0435\u0432\u0430 \u043f\u043e\u0441\u043b\u0435 \u043f\u0435\u0440\u0435\u0431\u043e\u0440\u0430 \u043f\u0430\u0440\u0430\u043c\u0435\u0442\u0440\u043e\u0432:\n",
        "Accuracy:  0.773891317926\n",
        "Precision:  0.679245283019\n",
        "Recall:  0.993429697766\n",
        "F1:  0.806830309498\n",
        "AUC score: 0.784214848883\n",
        "{'n_neighbors': 7, 'metric': 'minkowski', 'algorithm': 'auto', 'p': 1}\n"
       ]
      }
     ],
     "prompt_number": 501
    },
    {
     "cell_type": "code",
     "collapsed": false,
     "input": [
      "df1 = pandas.DataFrame([metrics.roc_auc_score(test_class , test_pred_TREE_gs) , \n",
      "                        metrics.roc_auc_score(test_class , test_pred_TREE)] , \n",
      "                       index=['Tree with best parameters' , 'Tree'])\n",
      "df1.plot(kind=\"bar\", title=\"ROC score for Trees\" , legend=False , figsize=(3,3) , ylim = (0.7 , 0.9))"
     ],
     "language": "python",
     "metadata": {},
     "outputs": [
      {
       "metadata": {},
       "output_type": "pyout",
       "prompt_number": 510,
       "text": [
        "<matplotlib.axes._subplots.AxesSubplot at 0x119b10350>"
       ]
      },
      {
       "metadata": {},
       "output_type": "display_data",
       "png": "[encoded data removed]",
       "text": [
        "<matplotlib.figure.Figure at 0x11a372cd0>"
       ]
      }
     ],
     "prompt_number": 510
    },
    {
     "cell_type": "code",
     "collapsed": false,
     "input": [
      "knn_scaled_new = KNeighborsClassifier(n_neighbors=10, metric = 'minkowski' , p=1).fit(train_rescaled,train_class)\n",
      "test_pred_KNN_scaled_new = knn_scaled_new.predict(test_rescaled)\n",
      "df2 = pandas.DataFrame([metrics.roc_auc_score(test_class , test_pred_KNNs_gs) , \n",
      "                        metrics.roc_auc_score(test_class , test_pred_KNN_scaled_new)] , \n",
      "                       index=['KNN with best parameters' , 'KNN'])\n",
      "df2.plot(kind=\"bar\", title=\"ROC score for KNN\" , legend=False , figsize=(3,3) , ylim = (0.7 , 0.9))"
     ],
     "language": "python",
     "metadata": {},
     "outputs": [
      {
       "metadata": {},
       "output_type": "pyout",
       "prompt_number": 511,
       "text": [
        "<matplotlib.axes._subplots.AxesSubplot at 0x11b403dd0>"
       ]
      },
      {
       "metadata": {},
       "output_type": "display_data",
       "png": "[encoded data removed]",
       "text": [
        "<matplotlib.figure.Figure at 0x118243210>"
       ]
      }
     ],
     "prompt_number": 511
    },
    {
     "cell_type": "code",
     "collapsed": false,
     "input": [],
     "language": "python",
     "metadata": {},
     "outputs": []
    }
   ],
   "metadata": {}
  }
 ]
}